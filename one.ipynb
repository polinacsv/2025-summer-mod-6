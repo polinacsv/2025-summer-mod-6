{
 "cells": [
  {
   "cell_type": "code",
   "execution_count": 1,
   "id": "d8e35353",
   "metadata": {},
   "outputs": [],
   "source": [
    "import pandas as pd"
   ]
  },
  {
   "cell_type": "code",
   "execution_count": 3,
   "id": "28397fb7",
   "metadata": {},
   "outputs": [],
   "source": [
    "df = pd.read_csv('homework_1.1.csv')\n"
   ]
  },
  {
   "cell_type": "code",
   "execution_count": 4,
   "id": "404f4848",
   "metadata": {},
   "outputs": [
    {
     "data": {
      "text/html": [
       "<div>\n",
       "<style scoped>\n",
       "    .dataframe tbody tr th:only-of-type {\n",
       "        vertical-align: middle;\n",
       "    }\n",
       "\n",
       "    .dataframe tbody tr th {\n",
       "        vertical-align: top;\n",
       "    }\n",
       "\n",
       "    .dataframe thead th {\n",
       "        text-align: right;\n",
       "    }\n",
       "</style>\n",
       "<table border=\"1\" class=\"dataframe\">\n",
       "  <thead>\n",
       "    <tr style=\"text-align: right;\">\n",
       "      <th></th>\n",
       "      <th>Unnamed: 0</th>\n",
       "      <th>X1</th>\n",
       "      <th>X2</th>\n",
       "      <th>X3</th>\n",
       "      <th>Y</th>\n",
       "    </tr>\n",
       "  </thead>\n",
       "  <tbody>\n",
       "    <tr>\n",
       "      <th>0</th>\n",
       "      <td>0</td>\n",
       "      <td>-0.440646</td>\n",
       "      <td>-0.390227</td>\n",
       "      <td>0.156718</td>\n",
       "      <td>-0.877671</td>\n",
       "    </tr>\n",
       "    <tr>\n",
       "      <th>1</th>\n",
       "      <td>1</td>\n",
       "      <td>-3.810099</td>\n",
       "      <td>-1.304665</td>\n",
       "      <td>-1.105117</td>\n",
       "      <td>-10.130388</td>\n",
       "    </tr>\n",
       "    <tr>\n",
       "      <th>2</th>\n",
       "      <td>2</td>\n",
       "      <td>-1.425451</td>\n",
       "      <td>-0.340049</td>\n",
       "      <td>1.115908</td>\n",
       "      <td>0.284068</td>\n",
       "    </tr>\n",
       "    <tr>\n",
       "      <th>3</th>\n",
       "      <td>3</td>\n",
       "      <td>-1.325750</td>\n",
       "      <td>0.161906</td>\n",
       "      <td>-0.254670</td>\n",
       "      <td>-1.994344</td>\n",
       "    </tr>\n",
       "    <tr>\n",
       "      <th>4</th>\n",
       "      <td>4</td>\n",
       "      <td>3.120263</td>\n",
       "      <td>1.487343</td>\n",
       "      <td>-1.164839</td>\n",
       "      <td>2.030030</td>\n",
       "    </tr>\n",
       "  </tbody>\n",
       "</table>\n",
       "</div>"
      ],
      "text/plain": [
       "   Unnamed: 0        X1        X2        X3          Y\n",
       "0           0 -0.440646 -0.390227  0.156718  -0.877671\n",
       "1           1 -3.810099 -1.304665 -1.105117 -10.130388\n",
       "2           2 -1.425451 -0.340049  1.115908   0.284068\n",
       "3           3 -1.325750  0.161906 -0.254670  -1.994344\n",
       "4           4  3.120263  1.487343 -1.164839   2.030030"
      ]
     },
     "execution_count": 4,
     "metadata": {},
     "output_type": "execute_result"
    }
   ],
   "source": [
    "df.head()"
   ]
  },
  {
   "cell_type": "code",
   "execution_count": 7,
   "id": "7ebd6fcf",
   "metadata": {},
   "outputs": [
    {
     "name": "stdout",
     "output_type": "stream",
     "text": [
      "                            OLS Regression Results                            \n",
      "==============================================================================\n",
      "Dep. Variable:                      Y   R-squared:                       0.991\n",
      "Model:                            OLS   Adj. R-squared:                  0.991\n",
      "Method:                 Least Squares   F-statistic:                 3.543e+04\n",
      "Date:                Mon, 26 May 2025   Prob (F-statistic):               0.00\n",
      "Time:                        02:04:42   Log-Likelihood:                -727.62\n",
      "No. Observations:                1000   AIC:                             1463.\n",
      "Df Residuals:                     996   BIC:                             1483.\n",
      "Df Model:                           3                                         \n",
      "Covariance Type:            nonrobust                                         \n",
      "==============================================================================\n",
      "                 coef    std err          t      P>|t|      [0.025      0.975]\n",
      "------------------------------------------------------------------------------\n",
      "const          0.0026      0.016      0.166      0.868      -0.029       0.034\n",
      "X1             1.0071      0.017     60.984      0.000       0.975       1.040\n",
      "X2             1.9646      0.037     53.283      0.000       1.892       2.037\n",
      "X3             2.9755      0.015    196.645      0.000       2.946       3.005\n",
      "==============================================================================\n",
      "Omnibus:                        0.655   Durbin-Watson:                   1.960\n",
      "Prob(Omnibus):                  0.721   Jarque-Bera (JB):                0.592\n",
      "Skew:                          -0.058   Prob(JB):                        0.744\n",
      "Kurtosis:                       3.029   Cond. No.                         5.94\n",
      "==============================================================================\n",
      "\n",
      "Notes:\n",
      "[1] Standard Errors assume that the covariance matrix of the errors is correctly specified.\n",
      "const      0.166181\n",
      "X1        60.984011\n",
      "X2        53.283212\n",
      "X3       196.645240\n",
      "dtype: float64\n"
     ]
    }
   ],
   "source": [
    "import pandas as pd\n",
    "import statsmodels.api as sm\n",
    "\n",
    "# Assume df is your DataFrame with columns x1, x2, x3, and Y\n",
    "X = df[['X1', 'X2', 'X3']]\n",
    "X = sm.add_constant(X)  # adds the intercept term\n",
    "y = df['Y']\n",
    "\n",
    "# Fit the model\n",
    "model = sm.OLS(y, X).fit()\n",
    "\n",
    "# View results with t-statistics\n",
    "print(model.summary())\n",
    "\n",
    "# If you just want t-statistics:\n",
    "print(model.tvalues)"
   ]
  },
  {
   "cell_type": "code",
   "execution_count": 8,
   "id": "2a87681c",
   "metadata": {},
   "outputs": [
    {
     "name": "stdout",
     "output_type": "stream",
     "text": [
      "X2 has the greatest difference: 2.1190\n"
     ]
    }
   ],
   "source": [
    "import statsmodels.api as sm\n",
    "\n",
    "simple_betas = {}\n",
    "for xi in ['X1', 'X2', 'X3']:\n",
    "    Xi = sm.add_constant(df[[xi]])\n",
    "    yi = df['Y']\n",
    "    model = sm.OLS(yi, Xi).fit()\n",
    "    simple_betas[xi] = model.params[xi]\n",
    "\n",
    "# Multiple regression\n",
    "X_multi = sm.add_constant(df[['X1', 'X2', 'X3']])\n",
    "y = df['Y']\n",
    "multi_model = sm.OLS(y, X_multi).fit()\n",
    "multi_betas = multi_model.params[['X1', 'X2', 'X3']].to_dict()\n",
    "\n",
    "# Compute differences\n",
    "diffs = {xi: abs(simple_betas[xi] - multi_betas[xi]) for xi in ['X1', 'X2', 'X3']}\n",
    "\n",
    "# Find the Xi with the greatest difference\n",
    "max_diff_xi = max(diffs, key=diffs.get)\n",
    "print(f\"{max_diff_xi} has the greatest difference: {diffs[max_diff_xi]:.4f}\")\n"
   ]
  },
  {
   "cell_type": "code",
   "execution_count": 11,
   "id": "ad71259c",
   "metadata": {},
   "outputs": [
    {
     "data": {
      "text/plain": [
       "{'X1': 1.0071376550530315, 'X2': 1.964568594874394, 'X3': 2.9754885351634353}"
      ]
     },
     "execution_count": 11,
     "metadata": {},
     "output_type": "execute_result"
    }
   ],
   "source": [
    "multi_betas"
   ]
  },
  {
   "cell_type": "code",
   "execution_count": 9,
   "id": "e6914850",
   "metadata": {},
   "outputs": [
    {
     "data": {
      "text/plain": [
       "{'X1': np.float64(1.8417610991461832),\n",
       " 'X2': np.float64(4.083612579373998),\n",
       " 'X3': np.float64(3.0970412020498452)}"
      ]
     },
     "execution_count": 9,
     "metadata": {},
     "output_type": "execute_result"
    }
   ],
   "source": [
    "simple_betas"
   ]
  },
  {
   "cell_type": "code",
   "execution_count": 10,
   "id": "d537329d",
   "metadata": {},
   "outputs": [
    {
     "data": {
      "text/plain": [
       "{'X1': np.float64(0.8346234440931517),\n",
       " 'X2': np.float64(2.119043984499604),\n",
       " 'X3': np.float64(0.12155266688640998)}"
      ]
     },
     "execution_count": 10,
     "metadata": {},
     "output_type": "execute_result"
    }
   ],
   "source": [
    "diffs"
   ]
  },
  {
   "cell_type": "code",
   "execution_count": 12,
   "id": "14d2ac66",
   "metadata": {},
   "outputs": [],
   "source": [
    "df = pd.read_csv('homework_1.2.csv')\n"
   ]
  },
  {
   "cell_type": "code",
   "execution_count": 19,
   "id": "f0118897",
   "metadata": {},
   "outputs": [
    {
     "data": {
      "text/html": [
       "<div>\n",
       "<style scoped>\n",
       "    .dataframe tbody tr th:only-of-type {\n",
       "        vertical-align: middle;\n",
       "    }\n",
       "\n",
       "    .dataframe tbody tr th {\n",
       "        vertical-align: top;\n",
       "    }\n",
       "\n",
       "    .dataframe thead th {\n",
       "        text-align: right;\n",
       "    }\n",
       "</style>\n",
       "<table border=\"1\" class=\"dataframe\">\n",
       "  <thead>\n",
       "    <tr style=\"text-align: right;\">\n",
       "      <th></th>\n",
       "      <th>Unnamed: 0</th>\n",
       "      <th>X</th>\n",
       "      <th>Y</th>\n",
       "      <th>Z</th>\n",
       "    </tr>\n",
       "  </thead>\n",
       "  <tbody>\n",
       "    <tr>\n",
       "      <th>0</th>\n",
       "      <td>0</td>\n",
       "      <td>0</td>\n",
       "      <td>0.548814</td>\n",
       "      <td>0.548814</td>\n",
       "    </tr>\n",
       "    <tr>\n",
       "      <th>1</th>\n",
       "      <td>1</td>\n",
       "      <td>1</td>\n",
       "      <td>1.215189</td>\n",
       "      <td>0.715189</td>\n",
       "    </tr>\n",
       "    <tr>\n",
       "      <th>2</th>\n",
       "      <td>2</td>\n",
       "      <td>0</td>\n",
       "      <td>0.602763</td>\n",
       "      <td>0.602763</td>\n",
       "    </tr>\n",
       "    <tr>\n",
       "      <th>3</th>\n",
       "      <td>3</td>\n",
       "      <td>0</td>\n",
       "      <td>0.544883</td>\n",
       "      <td>0.544883</td>\n",
       "    </tr>\n",
       "    <tr>\n",
       "      <th>4</th>\n",
       "      <td>4</td>\n",
       "      <td>0</td>\n",
       "      <td>0.423655</td>\n",
       "      <td>0.423655</td>\n",
       "    </tr>\n",
       "    <tr>\n",
       "      <th>...</th>\n",
       "      <td>...</td>\n",
       "      <td>...</td>\n",
       "      <td>...</td>\n",
       "      <td>...</td>\n",
       "    </tr>\n",
       "    <tr>\n",
       "      <th>95</th>\n",
       "      <td>95</td>\n",
       "      <td>0</td>\n",
       "      <td>0.183191</td>\n",
       "      <td>0.183191</td>\n",
       "    </tr>\n",
       "    <tr>\n",
       "      <th>96</th>\n",
       "      <td>96</td>\n",
       "      <td>1</td>\n",
       "      <td>1.086513</td>\n",
       "      <td>0.586513</td>\n",
       "    </tr>\n",
       "    <tr>\n",
       "      <th>97</th>\n",
       "      <td>97</td>\n",
       "      <td>0</td>\n",
       "      <td>0.020108</td>\n",
       "      <td>0.020108</td>\n",
       "    </tr>\n",
       "    <tr>\n",
       "      <th>98</th>\n",
       "      <td>98</td>\n",
       "      <td>1</td>\n",
       "      <td>1.328940</td>\n",
       "      <td>0.828940</td>\n",
       "    </tr>\n",
       "    <tr>\n",
       "      <th>99</th>\n",
       "      <td>99</td>\n",
       "      <td>0</td>\n",
       "      <td>0.004695</td>\n",
       "      <td>0.004695</td>\n",
       "    </tr>\n",
       "  </tbody>\n",
       "</table>\n",
       "<p>100 rows × 4 columns</p>\n",
       "</div>"
      ],
      "text/plain": [
       "    Unnamed: 0  X         Y         Z\n",
       "0            0  0  0.548814  0.548814\n",
       "1            1  1  1.215189  0.715189\n",
       "2            2  0  0.602763  0.602763\n",
       "3            3  0  0.544883  0.544883\n",
       "4            4  0  0.423655  0.423655\n",
       "..         ... ..       ...       ...\n",
       "95          95  0  0.183191  0.183191\n",
       "96          96  1  1.086513  0.586513\n",
       "97          97  0  0.020108  0.020108\n",
       "98          98  1  1.328940  0.828940\n",
       "99          99  0  0.004695  0.004695\n",
       "\n",
       "[100 rows x 4 columns]"
      ]
     },
     "execution_count": 19,
     "metadata": {},
     "output_type": "execute_result"
    }
   ],
   "source": [
    "df"
   ]
  },
  {
   "cell_type": "code",
   "execution_count": 14,
   "id": "8e61227b",
   "metadata": {},
   "outputs": [],
   "source": [
    "import pandas as pd\n",
    "from sklearn.neighbors import NearestNeighbors\n",
    "\n",
    "# Assume df is your DataFrame with columns X, Y, Z\n",
    "treated = df[df['X'] == 1].copy()\n",
    "control = df[df['X'] == 0].copy()\n",
    "\n",
    "# Fit NearestNeighbors on control group using Z\n",
    "nn = NearestNeighbors(n_neighbors=1, algorithm='auto')\n",
    "nn.fit(control[['Z']])\n",
    "\n",
    "# Find nearest control unit for each treated unit\n",
    "distances, indices = nn.kneighbors(treated[['Z']])\n",
    "\n",
    "# Add matched control index to treated DataFrame\n",
    "treated['matched_control_index'] = control.iloc[indices.flatten()].index.values\n",
    "treated['matched_control_Z'] = control.iloc[indices.flatten()]['Z'].values\n",
    "\n",
    "# Optionally: merge with control Y values if needed\n",
    "treated['matched_control_Y'] = control.iloc[indices.flatten()]['Y'].values\n"
   ]
  },
  {
   "cell_type": "code",
   "execution_count": 15,
   "id": "80e6ccd5",
   "metadata": {},
   "outputs": [],
   "source": [
    "distances, indices = nn.kneighbors(treated[['Z']])\n"
   ]
  },
  {
   "cell_type": "code",
   "execution_count": 16,
   "id": "51df64e9",
   "metadata": {},
   "outputs": [
    {
     "name": "stdout",
     "output_type": "stream",
     "text": [
      "The distance of the farthest match is: 0.2102\n"
     ]
    }
   ],
   "source": [
    "farthest_distance = distances.max()\n",
    "print(f\"The distance of the farthest match is: {farthest_distance:.4f}\")\n"
   ]
  },
  {
   "cell_type": "code",
   "execution_count": 17,
   "id": "e9698470",
   "metadata": {},
   "outputs": [
    {
     "data": {
      "text/plain": [
       "array([[0.00113784],\n",
       "       [0.00721421],\n",
       "       [0.00055526],\n",
       "       [0.11361625],\n",
       "       [0.18550601],\n",
       "       [0.03122042],\n",
       "       [0.01356829],\n",
       "       [0.14743989],\n",
       "       [0.05446309],\n",
       "       [0.0918554 ],\n",
       "       [0.20046159],\n",
       "       [0.02100181],\n",
       "       [0.00483141],\n",
       "       [0.00237243],\n",
       "       [0.0131873 ],\n",
       "       [0.16651217],\n",
       "       [0.00392306],\n",
       "       [0.00038939],\n",
       "       [0.0007015 ],\n",
       "       [0.00483827],\n",
       "       [0.16559133],\n",
       "       [0.01118243],\n",
       "       [0.04093895],\n",
       "       [0.01869601],\n",
       "       [0.00287156],\n",
       "       [0.00255483],\n",
       "       [0.04514182],\n",
       "       [0.00215221],\n",
       "       [0.00156956],\n",
       "       [0.21021709],\n",
       "       [0.00233993],\n",
       "       [0.00517034],\n",
       "       [0.01229439],\n",
       "       [0.04593677],\n",
       "       [0.04283648],\n",
       "       [0.05978816],\n",
       "       [0.19830271],\n",
       "       [0.19860434],\n",
       "       [0.00208214],\n",
       "       [0.00146884],\n",
       "       [0.01333323],\n",
       "       [0.00039895],\n",
       "       [0.02183425],\n",
       "       [0.15113945],\n",
       "       [0.00064366],\n",
       "       [0.00659913],\n",
       "       [0.01056644],\n",
       "       [0.05078328]])"
      ]
     },
     "execution_count": 17,
     "metadata": {},
     "output_type": "execute_result"
    }
   ],
   "source": [
    "distances"
   ]
  },
  {
   "cell_type": "code",
   "execution_count": 18,
   "id": "5ef22b50",
   "metadata": {},
   "outputs": [
    {
     "name": "stdout",
     "output_type": "stream",
     "text": [
      "Estimated effect: 0.5434\n"
     ]
    }
   ],
   "source": [
    "# Y for treated (X = 1)\n",
    "treated_y_mean = treated['Y'].mean()\n",
    "\n",
    "# Y for matched controls (matched_control_Y was created earlier)\n",
    "matched_control_y_mean = treated['matched_control_Y'].mean()\n",
    "\n",
    "# Estimated treatment effect\n",
    "effect = treated_y_mean - matched_control_y_mean\n",
    "print(f\"Estimated effect: {effect:.4f}\")\n"
   ]
  },
  {
   "cell_type": "code",
   "execution_count": 4,
   "id": "ffb024e7",
   "metadata": {},
   "outputs": [],
   "source": [
    "df = pd.read_csv('homework_2.1.csv')\n"
   ]
  },
  {
   "cell_type": "code",
   "execution_count": 5,
   "id": "d7ab9b21",
   "metadata": {},
   "outputs": [
    {
     "data": {
      "text/html": [
       "<div>\n",
       "<style scoped>\n",
       "    .dataframe tbody tr th:only-of-type {\n",
       "        vertical-align: middle;\n",
       "    }\n",
       "\n",
       "    .dataframe tbody tr th {\n",
       "        vertical-align: top;\n",
       "    }\n",
       "\n",
       "    .dataframe thead th {\n",
       "        text-align: right;\n",
       "    }\n",
       "</style>\n",
       "<table border=\"1\" class=\"dataframe\">\n",
       "  <thead>\n",
       "    <tr style=\"text-align: right;\">\n",
       "      <th></th>\n",
       "      <th>Unnamed: 0</th>\n",
       "      <th>time</th>\n",
       "      <th>G1</th>\n",
       "      <th>G2</th>\n",
       "      <th>G3</th>\n",
       "    </tr>\n",
       "  </thead>\n",
       "  <tbody>\n",
       "    <tr>\n",
       "      <th>0</th>\n",
       "      <td>0</td>\n",
       "      <td>0</td>\n",
       "      <td>0.882026</td>\n",
       "      <td>1.441575</td>\n",
       "      <td>0.065409</td>\n",
       "    </tr>\n",
       "    <tr>\n",
       "      <th>1</th>\n",
       "      <td>1</td>\n",
       "      <td>1</td>\n",
       "      <td>0.210079</td>\n",
       "      <td>-0.163880</td>\n",
       "      <td>0.140310</td>\n",
       "    </tr>\n",
       "    <tr>\n",
       "      <th>2</th>\n",
       "      <td>2</td>\n",
       "      <td>2</td>\n",
       "      <td>0.509369</td>\n",
       "      <td>-0.115242</td>\n",
       "      <td>0.819830</td>\n",
       "    </tr>\n",
       "    <tr>\n",
       "      <th>3</th>\n",
       "      <td>3</td>\n",
       "      <td>3</td>\n",
       "      <td>1.150447</td>\n",
       "      <td>1.014698</td>\n",
       "      <td>0.607632</td>\n",
       "    </tr>\n",
       "    <tr>\n",
       "      <th>4</th>\n",
       "      <td>4</td>\n",
       "      <td>4</td>\n",
       "      <td>0.973779</td>\n",
       "      <td>-0.046562</td>\n",
       "      <td>0.610066</td>\n",
       "    </tr>\n",
       "  </tbody>\n",
       "</table>\n",
       "</div>"
      ],
      "text/plain": [
       "   Unnamed: 0  time        G1        G2        G3\n",
       "0           0     0  0.882026  1.441575  0.065409\n",
       "1           1     1  0.210079 -0.163880  0.140310\n",
       "2           2     2  0.509369 -0.115242  0.819830\n",
       "3           3     3  1.150447  1.014698  0.607632\n",
       "4           4     4  0.973779 -0.046562  0.610066"
      ]
     },
     "execution_count": 5,
     "metadata": {},
     "output_type": "execute_result"
    }
   ],
   "source": [
    "df.head()"
   ]
  },
  {
   "cell_type": "code",
   "execution_count": 6,
   "id": "1784e2ec",
   "metadata": {},
   "outputs": [
    {
     "name": "stdout",
     "output_type": "stream",
     "text": [
      "                            OLS Regression Results                            \n",
      "==============================================================================\n",
      "Dep. Variable:                   time   R-squared:                       0.435\n",
      "Model:                            OLS   Adj. R-squared:                  0.418\n",
      "Method:                 Least Squares   F-statistic:                     24.68\n",
      "Date:                Mon, 02 Jun 2025   Prob (F-statistic):           6.38e-12\n",
      "Time:                        02:53:02   Log-Likelihood:                -449.58\n",
      "No. Observations:                 100   AIC:                             907.2\n",
      "Df Residuals:                      96   BIC:                             917.6\n",
      "Df Model:                           3                                         \n",
      "Covariance Type:            nonrobust                                         \n",
      "==============================================================================\n",
      "                 coef    std err          t      P>|t|      [0.025      0.975]\n",
      "------------------------------------------------------------------------------\n",
      "const         16.4504      5.057      3.253      0.002       6.412      26.489\n",
      "G1            13.0864      4.239      3.087      0.003       4.672      21.501\n",
      "G2            10.0334      4.246      2.363      0.020       1.606      18.461\n",
      "G3            22.0662      4.120      5.356      0.000      13.888      30.245\n",
      "==============================================================================\n",
      "Omnibus:                        4.188   Durbin-Watson:                   0.899\n",
      "Prob(Omnibus):                  0.123   Jarque-Bera (JB):                3.199\n",
      "Skew:                          -0.307   Prob(JB):                        0.202\n",
      "Kurtosis:                       2.375   Cond. No.                         4.90\n",
      "==============================================================================\n",
      "\n",
      "Notes:\n",
      "[1] Standard Errors assume that the covariance matrix of the errors is correctly specified.\n",
      "const    3.252944\n",
      "G1       3.087069\n",
      "G2       2.363148\n",
      "G3       5.355519\n",
      "dtype: float64\n"
     ]
    }
   ],
   "source": [
    "import pandas as pd\n",
    "import statsmodels.api as sm\n",
    "\n",
    "# Assume df is your DataFrame with columns x1, x2, x3, and Y\n",
    "X = df[['G1', 'G2', 'G3']]\n",
    "X = sm.add_constant(X)  # adds the intercept term\n",
    "y = df['time']\n",
    "\n",
    "# Fit the model\n",
    "model = sm.OLS(y, X).fit()\n",
    "\n",
    "# View results with t-statistics\n",
    "print(model.summary())\n",
    "\n",
    "# If you just want t-statistics:\n",
    "print(model.tvalues)"
   ]
  }
 ],
 "metadata": {
  "kernelspec": {
   "display_name": "Python 3",
   "language": "python",
   "name": "python3"
  },
  "language_info": {
   "codemirror_mode": {
    "name": "ipython",
    "version": 3
   },
   "file_extension": ".py",
   "mimetype": "text/x-python",
   "name": "python",
   "nbconvert_exporter": "python",
   "pygments_lexer": "ipython3",
   "version": "3.12.1"
  }
 },
 "nbformat": 4,
 "nbformat_minor": 5
}
